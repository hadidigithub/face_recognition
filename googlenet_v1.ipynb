{
  "metadata": {
    "kernelspec": {
      "display_name": "Python 3",
      "name": "python3"
    },
    "language_info": {
      "name": "python",
      "version": "3.10.13",
      "mimetype": "text/x-python",
      "codemirror_mode": {
        "name": "ipython",
        "version": 3
      },
      "pygments_lexer": "ipython3",
      "nbconvert_exporter": "python",
      "file_extension": ".py"
    },
    "kaggle": {
      "accelerator": "nvidiaTeslaT4",
      "dataSources": [
        {
          "sourceId": 8720009,
          "sourceType": "datasetVersion",
          "datasetId": 5232192
        }
      ],
      "dockerImageVersionId": 30732,
      "isInternetEnabled": true,
      "language": "python",
      "sourceType": "notebook",
      "isGpuEnabled": true
    },
    "colab": {
      "provenance": [],
      "toc_visible": true,
      "gpuType": "T4"
    },
    "accelerator": "GPU"
  },
  "nbformat_minor": 0,
  "nbformat": 4,
  "cells": [
    {
      "cell_type": "markdown",
      "source": [
        "# **IMPORT LIBRARY**\n"
      ],
      "metadata": {
        "_uuid": "8f2839f25d086af736a60e9eeb907d3b93b6e0e5",
        "_cell_guid": "b1076dfc-b9ad-4769-8c92-a6c4dae69d19",
        "id": "Y-1nkrrQhPfa"
      }
    },
    {
      "cell_type": "code",
      "source": [
        "from google.colab import drive\n",
        "drive.mount('/content/drive', force_remount=True)"
      ],
      "metadata": {
        "colab": {
          "base_uri": "https://localhost:8080/"
        },
        "id": "WAVPafeshYmq",
        "outputId": "651cf3d2-f566-4a82-a519-7c5f89c5eb65"
      },
      "execution_count": null,
      "outputs": [
        {
          "output_type": "stream",
          "name": "stdout",
          "text": [
            "Mounted at /content/drive\n"
          ]
        }
      ]
    },
    {
      "cell_type": "code",
      "source": [
        "import os\n",
        "import pandas as pd\n",
        "from sklearn.model_selection import train_test_split\n",
        "import torch\n",
        "from torch.utils.data import Dataset, DataLoader\n",
        "from torchvision import transforms\n",
        "import torch.nn as nn\n",
        "import torch.optim as optim\n",
        "from torchvision.models import resnet18, resnet34, googlenet\n",
        "import time\n",
        "from torch.autograd import Variable\n",
        "from PIL import Image\n",
        "from sklearn.metrics import classification_report, confusion_matrix\n",
        "import matplotlib.pyplot as plt\n",
        "import cv2\n",
        "import time\n",
        "from torch.autograd import Variable"
      ],
      "metadata": {
        "execution": {
          "iopub.status.busy": "2024-06-20T10:14:50.280908Z",
          "iopub.execute_input": "2024-06-20T10:14:50.281493Z",
          "iopub.status.idle": "2024-06-20T10:14:50.287592Z",
          "shell.execute_reply.started": "2024-06-20T10:14:50.281463Z",
          "shell.execute_reply": "2024-06-20T10:14:50.286711Z"
        },
        "trusted": true,
        "id": "1P66BNRKhPfd"
      },
      "execution_count": null,
      "outputs": []
    },
    {
      "cell_type": "code",
      "source": [
        "use_gpu = torch.cuda.is_available()"
      ],
      "metadata": {
        "execution": {
          "iopub.status.busy": "2024-06-20T10:14:50.840645Z",
          "iopub.execute_input": "2024-06-20T10:14:50.840989Z",
          "iopub.status.idle": "2024-06-20T10:14:50.898601Z",
          "shell.execute_reply.started": "2024-06-20T10:14:50.840962Z",
          "shell.execute_reply": "2024-06-20T10:14:50.897559Z"
        },
        "trusted": true,
        "id": "Zo-qLy2HhPfe"
      },
      "execution_count": null,
      "outputs": []
    },
    {
      "cell_type": "markdown",
      "source": [
        "# **DATA PREPARATION**"
      ],
      "metadata": {
        "id": "79BNuA7BhPff"
      }
    },
    {
      "cell_type": "code",
      "source": [
        "data_path='/content/drive/MyDrive/aiforindonesia/project_1/Dataset'\n",
        "project_path='/content/drive/MyDrive/aiforindonesia/project_1/output'\n",
        "\n",
        "attribute_path = data_path+'/list_attribute.txt'\n",
        "image_list_path = data_path+'/Images'"
      ],
      "metadata": {
        "execution": {
          "iopub.status.busy": "2024-06-20T10:14:53.566246Z",
          "iopub.execute_input": "2024-06-20T10:14:53.566993Z",
          "iopub.status.idle": "2024-06-20T10:14:53.570978Z",
          "shell.execute_reply.started": "2024-06-20T10:14:53.566961Z",
          "shell.execute_reply": "2024-06-20T10:14:53.570114Z"
        },
        "trusted": true,
        "id": "-iNMXpq2hPff"
      },
      "execution_count": null,
      "outputs": []
    },
    {
      "cell_type": "code",
      "source": [
        "os.listdir(data_path)"
      ],
      "metadata": {
        "execution": {
          "iopub.status.busy": "2024-06-20T10:14:54.197272Z",
          "iopub.execute_input": "2024-06-20T10:14:54.198014Z",
          "iopub.status.idle": "2024-06-20T10:14:54.225922Z",
          "shell.execute_reply.started": "2024-06-20T10:14:54.197985Z",
          "shell.execute_reply": "2024-06-20T10:14:54.225062Z"
        },
        "trusted": true,
        "colab": {
          "base_uri": "https://localhost:8080/"
        },
        "id": "eVxOSBDOhPff",
        "outputId": "da65c3b8-5000-4e07-f3ca-131ffca15cbc"
      },
      "execution_count": null,
      "outputs": [
        {
          "output_type": "execute_result",
          "data": {
            "text/plain": [
              "['gender_classification.csv',\n",
              " 'class_identity.txt',\n",
              " 'list_attribute.txt',\n",
              " 'gender_classification.xlsx',\n",
              " 'model_saved',\n",
              " 'Images']"
            ]
          },
          "metadata": {},
          "execution_count": 5
        }
      ]
    },
    {
      "cell_type": "code",
      "source": [
        "os.listdir(project_path)"
      ],
      "metadata": {
        "colab": {
          "base_uri": "https://localhost:8080/"
        },
        "id": "GlEJ0RFbwoGX",
        "outputId": "dfc511bd-9701-42cd-b530-9909720355ae"
      },
      "execution_count": null,
      "outputs": [
        {
          "output_type": "execute_result",
          "data": {
            "text/plain": [
              "['cleaned_list_attribute.txt']"
            ]
          },
          "metadata": {},
          "execution_count": 6
        }
      ]
    },
    {
      "cell_type": "code",
      "source": [
        "images = os.listdir(image_list_path)\n",
        "images = [image for image in images if len(image.split('(')) <= 1]\n",
        "print('Eg: ', images[:2])\n",
        "print('Count:', len(images))\n",
        "# images"
      ],
      "metadata": {
        "execution": {
          "iopub.status.busy": "2024-06-20T10:14:54.482386Z",
          "iopub.execute_input": "2024-06-20T10:14:54.482651Z",
          "iopub.status.idle": "2024-06-20T10:14:55.224254Z",
          "shell.execute_reply.started": "2024-06-20T10:14:54.482628Z",
          "shell.execute_reply": "2024-06-20T10:14:55.223419Z"
        },
        "trusted": true,
        "colab": {
          "base_uri": "https://localhost:8080/"
        },
        "id": "z_krGY4jhPfg",
        "outputId": "2b66832b-6b64-4799-e15b-bda40d6e777a"
      },
      "execution_count": null,
      "outputs": [
        {
          "output_type": "stream",
          "name": "stdout",
          "text": [
            "Eg:  ['088686.jpg', '030742.jpg']\n",
            "Count: 5000\n"
          ]
        }
      ]
    },
    {
      "cell_type": "code",
      "source": [
        "data = pd.DataFrame(pd.read_csv(project_path+'/cleaned_list_attribute.txt', sep='\\s+'))\n",
        "data = pd.DataFrame(data.filter(items=images, axis=0))\n",
        "data = data.replace(-1, 0)\n",
        "data = data['Male']"
      ],
      "metadata": {
        "execution": {
          "iopub.status.busy": "2024-06-20T10:14:56.302024Z",
          "iopub.execute_input": "2024-06-20T10:14:56.302376Z",
          "iopub.status.idle": "2024-06-20T10:14:57.539371Z",
          "shell.execute_reply.started": "2024-06-20T10:14:56.302349Z",
          "shell.execute_reply": "2024-06-20T10:14:57.538603Z"
        },
        "trusted": true,
        "id": "Wnb36evdhPfh"
      },
      "execution_count": null,
      "outputs": []
    },
    {
      "cell_type": "code",
      "source": [
        "data.info()"
      ],
      "metadata": {
        "execution": {
          "iopub.status.busy": "2024-06-20T10:14:57.541041Z",
          "iopub.execute_input": "2024-06-20T10:14:57.541402Z",
          "iopub.status.idle": "2024-06-20T10:14:57.560057Z",
          "shell.execute_reply.started": "2024-06-20T10:14:57.541372Z",
          "shell.execute_reply": "2024-06-20T10:14:57.559088Z"
        },
        "trusted": true,
        "colab": {
          "base_uri": "https://localhost:8080/"
        },
        "id": "gSIdSmlFhPfh",
        "outputId": "10605f38-1d17-4c1d-84dc-f36d3cc928f0"
      },
      "execution_count": null,
      "outputs": [
        {
          "output_type": "stream",
          "name": "stdout",
          "text": [
            "<class 'pandas.core.series.Series'>\n",
            "Index: 5000 entries, 088686.jpg to 041283.jpg\n",
            "Series name: Male\n",
            "Non-Null Count  Dtype\n",
            "--------------  -----\n",
            "5000 non-null   int64\n",
            "dtypes: int64(1)\n",
            "memory usage: 78.1+ KB\n"
          ]
        }
      ]
    },
    {
      "cell_type": "code",
      "source": [
        "# Redistribute male & female image\n",
        "data_male = data[data==1]\n",
        "data_female = data[data==0]\n",
        "# data_male = data_male.sample(frac = 1, random_state = 42)\n",
        "# data_female = data_female.sample(frac = 1, random_state = 42)\n",
        "\n",
        "train_data = pd.concat([data_male[:1500], data_female[:1500]], axis=0)\n",
        "test_data = pd.concat([data_male[1500:], data_female[1500:]], axis=0)\n",
        "# train_data.sort_index(inplace = True)\n",
        "# test_data.sort_index(inplace = True)"
      ],
      "metadata": {
        "execution": {
          "iopub.status.busy": "2024-06-20T10:14:57.792349Z",
          "iopub.execute_input": "2024-06-20T10:14:57.792631Z",
          "iopub.status.idle": "2024-06-20T10:14:57.800217Z",
          "shell.execute_reply.started": "2024-06-20T10:14:57.792606Z",
          "shell.execute_reply": "2024-06-20T10:14:57.799355Z"
        },
        "trusted": true,
        "id": "bPR63_KxhPfh"
      },
      "execution_count": null,
      "outputs": []
    },
    {
      "cell_type": "markdown",
      "source": [
        "## **HELPERS**"
      ],
      "metadata": {
        "id": "rtNqCE2fhPfi"
      }
    },
    {
      "cell_type": "code",
      "source": [
        "def dataset_getitem(image_folder_path, data, idx):\n",
        "  image_name = data.keys()[idx]\n",
        "  gender = data.iloc[idx]\n",
        "\n",
        "  image_path = os.path.join(image_folder_path, image_name)\n",
        "  image = cv2.imread(image_path)\n",
        "  image = cv2.cvtColor(image, cv2.COLOR_BGR2RGB)\n",
        "  image = Image.fromarray(image)\n",
        "\n",
        "  return {\n",
        "      'image': image,\n",
        "      'gender': gender,\n",
        "  }\n",
        "\n",
        "# Function Sample\n",
        "dataset_getitem(os.path.join(data_path, \"Images\"), train_data, 0)"
      ],
      "metadata": {
        "execution": {
          "iopub.status.busy": "2024-06-20T10:14:59.610541Z",
          "iopub.execute_input": "2024-06-20T10:14:59.611344Z",
          "iopub.status.idle": "2024-06-20T10:14:59.655167Z",
          "shell.execute_reply.started": "2024-06-20T10:14:59.611300Z",
          "shell.execute_reply": "2024-06-20T10:14:59.654254Z"
        },
        "trusted": true,
        "colab": {
          "base_uri": "https://localhost:8080/"
        },
        "id": "hsnmVhcohPfi",
        "outputId": "7d945ee8-7857-4a36-c900-1492c42b3540"
      },
      "execution_count": null,
      "outputs": [
        {
          "output_type": "execute_result",
          "data": {
            "text/plain": [
              "{'image': <PIL.Image.Image image mode=RGB size=178x218>, 'gender': 1}"
            ]
          },
          "metadata": {},
          "execution_count": 11
        }
      ]
    },
    {
      "cell_type": "code",
      "source": [
        "def get_report(model, test_dataloaders):\n",
        "    train_time = 0\n",
        "    y_true = torch.empty((0)).cuda()\n",
        "    y_pred = torch.empty((0)).cuda()\n",
        "\n",
        "\n",
        "    for data in test_dataloaders:\n",
        "      inputs, labels = data\n",
        "\n",
        "      if torch.cuda.is_available():\n",
        "          inputs, labels = Variable(inputs.cuda()), Variable(labels.cuda())\n",
        "      else:\n",
        "          inputs, labels = Variable(inputs), Variable(labels)\n",
        "\n",
        "      start_time = time.time()\n",
        "      outputs = model(inputs)\n",
        "\n",
        "      end_time = time.time()\n",
        "      train_time += end_time - start_time\n",
        "\n",
        "      preds = (torch.sigmoid(outputs).squeeze() > 0.5).float()\n",
        "      y_true = torch.cat((y_true, labels.data), -1)\n",
        "      y_pred = torch.cat((y_pred, preds), -1)\n",
        "\n",
        "    inference_time = train_time/len(test_dataloaders)\n",
        "\n",
        "    return y_true, y_pred, inference_time"
      ],
      "metadata": {
        "execution": {
          "iopub.status.busy": "2024-06-20T10:37:11.543792Z",
          "iopub.execute_input": "2024-06-20T10:37:11.544558Z",
          "iopub.status.idle": "2024-06-20T10:37:11.553462Z",
          "shell.execute_reply.started": "2024-06-20T10:37:11.544516Z",
          "shell.execute_reply": "2024-06-20T10:37:11.552564Z"
        },
        "trusted": true,
        "id": "E97MqhIBhPfi"
      },
      "execution_count": null,
      "outputs": []
    },
    {
      "cell_type": "markdown",
      "source": [
        "# **DATA PRE-PROCESSING**"
      ],
      "metadata": {
        "id": "0P7r8EQjhPfi"
      }
    },
    {
      "cell_type": "code",
      "source": [
        "class GenderDataset(Dataset):\n",
        "    def __init__(self, data, image_folder_path, transform=None):\n",
        "        self.data = data\n",
        "        self.image_folder_path = image_folder_path\n",
        "        self.transform = transform\n",
        "\n",
        "    def __len__(self):\n",
        "        return len(self.data)\n",
        "\n",
        "    def __getitem__(self, idx):\n",
        "      result = dataset_getitem(self.image_folder_path, self.data, idx)\n",
        "      if self.transform:\n",
        "        image = self.transform(result['image'])\n",
        "      return image, torch.tensor(result['gender'], dtype=torch.long)"
      ],
      "metadata": {
        "execution": {
          "iopub.status.busy": "2024-06-20T10:15:01.438339Z",
          "iopub.execute_input": "2024-06-20T10:15:01.438688Z",
          "iopub.status.idle": "2024-06-20T10:15:01.445479Z",
          "shell.execute_reply.started": "2024-06-20T10:15:01.438661Z",
          "shell.execute_reply": "2024-06-20T10:15:01.444291Z"
        },
        "trusted": true,
        "id": "K36eTu2_hPfj"
      },
      "execution_count": null,
      "outputs": []
    },
    {
      "cell_type": "code",
      "source": [
        "transform = {\n",
        "     'train': transforms.Compose([\n",
        "        transforms.RandomHorizontalFlip(),\n",
        "        transforms.Resize(256),\n",
        "        transforms.RandomRotation(45),\n",
        "        transforms.CenterCrop(224),\n",
        "        transforms.ToTensor(),\n",
        "        transforms.Normalize([0.485, 0.456, 0.406], [0.229, 0.224, 0.225])\n",
        "    ]),\n",
        "    'test': transforms.Compose([\n",
        "        transforms.Resize(256),\n",
        "        transforms.CenterCrop(224),\n",
        "        transforms.ToTensor(),\n",
        "        transforms.Normalize([0.485, 0.456, 0.406], [0.229, 0.224, 0.225])\n",
        "    ]),\n",
        "}"
      ],
      "metadata": {
        "execution": {
          "iopub.status.busy": "2024-06-20T10:15:02.225545Z",
          "iopub.execute_input": "2024-06-20T10:15:02.226379Z",
          "iopub.status.idle": "2024-06-20T10:15:02.234892Z",
          "shell.execute_reply.started": "2024-06-20T10:15:02.226340Z",
          "shell.execute_reply": "2024-06-20T10:15:02.234046Z"
        },
        "trusted": true,
        "id": "9X5mOUIehPfj"
      },
      "execution_count": null,
      "outputs": []
    },
    {
      "cell_type": "code",
      "source": [
        "train_set = GenderDataset(train_data, image_folder_path=os.path.join(data_path, \"Images\"), transform=transform['train'])\n",
        "train_loader = DataLoader(train_set, batch_size=32, shuffle=True, num_workers=2)\n",
        "\n",
        "test_set = GenderDataset(test_data, os.path.join(data_path, \"Images\"), transform=transform['test'])\n",
        "test_loader = DataLoader(test_set, batch_size=32, shuffle=False, num_workers=2)\n",
        "\n",
        "print({ 'train': len(train_set), 'test': len(test_set) })"
      ],
      "metadata": {
        "execution": {
          "iopub.status.busy": "2024-06-20T10:15:02.924478Z",
          "iopub.execute_input": "2024-06-20T10:15:02.924894Z",
          "iopub.status.idle": "2024-06-20T10:15:02.933874Z",
          "shell.execute_reply.started": "2024-06-20T10:15:02.924842Z",
          "shell.execute_reply": "2024-06-20T10:15:02.931825Z"
        },
        "trusted": true,
        "colab": {
          "base_uri": "https://localhost:8080/"
        },
        "id": "ftQNJKZLhPfj",
        "outputId": "eefc972a-176d-497c-a062-f5345e045701"
      },
      "execution_count": null,
      "outputs": [
        {
          "output_type": "stream",
          "name": "stdout",
          "text": [
            "{'train': 3000, 'test': 2000}\n"
          ]
        }
      ]
    },
    {
      "cell_type": "code",
      "source": [
        "dataloders = {\"train\":train_loader, \"test\":test_loader}\n",
        "dataset_sizes = {\"train\":len(train_set), \"test\":len(test_set)}"
      ],
      "metadata": {
        "execution": {
          "iopub.status.busy": "2024-06-20T10:15:04.265891Z",
          "iopub.execute_input": "2024-06-20T10:15:04.266657Z",
          "iopub.status.idle": "2024-06-20T10:15:04.271580Z",
          "shell.execute_reply.started": "2024-06-20T10:15:04.266615Z",
          "shell.execute_reply": "2024-06-20T10:15:04.270589Z"
        },
        "trusted": true,
        "id": "giNV9dI8hPfj"
      },
      "execution_count": null,
      "outputs": []
    },
    {
      "cell_type": "code",
      "source": [
        "criterion = nn.BCEWithLogitsLoss()"
      ],
      "metadata": {
        "execution": {
          "iopub.status.busy": "2024-06-20T10:15:04.520452Z",
          "iopub.execute_input": "2024-06-20T10:15:04.520791Z",
          "iopub.status.idle": "2024-06-20T10:15:04.525082Z",
          "shell.execute_reply.started": "2024-06-20T10:15:04.520763Z",
          "shell.execute_reply": "2024-06-20T10:15:04.524074Z"
        },
        "trusted": true,
        "id": "9MF5R_MWhPfj"
      },
      "execution_count": null,
      "outputs": []
    },
    {
      "cell_type": "markdown",
      "source": [
        "## **MODEL GOOGLENET**"
      ],
      "metadata": {
        "id": "sP7K-XqkhPfk"
      }
    },
    {
      "cell_type": "code",
      "source": [
        "def train_model_gnet(model, dataloaders, dataset_sizes, criterion, optimizer, use_gpu=torch.cuda.is_available(), num_epochs=10):\n",
        "    since = time.time()\n",
        "\n",
        "    best_model_wts = model.state_dict()\n",
        "    best_acc = 0.0\n",
        "\n",
        "    for epoch in range(num_epochs):\n",
        "        print('Epoch {}/{}'.format(epoch, num_epochs - 1))\n",
        "        print('-' * 10)\n",
        "\n",
        "        # Each epoch has a training and validation phase\n",
        "        for phase in ['train', 'test']:\n",
        "            if phase == 'train':\n",
        "                model.train(True)  # Set model to training mode\n",
        "            else:\n",
        "                model.train(False)  # Set model to evaluate mode\n",
        "\n",
        "            running_loss = 0.0\n",
        "            running_corrects = 0\n",
        "\n",
        "            # Iterate over data.\n",
        "            for data in dataloders[phase]:\n",
        "                # get the inputs\n",
        "                inputs, labels = data\n",
        "\n",
        "                # wrap them in Variable\n",
        "                if use_gpu:\n",
        "                    inputs = Variable(inputs.cuda())\n",
        "                    labels = Variable(labels.cuda())\n",
        "                else:\n",
        "                    inputs, labels = Variable(inputs), Variable(labels)\n",
        "\n",
        "                # zero the parameter gradients\n",
        "                optimizer.zero_grad()\n",
        "\n",
        "                # forward\n",
        "                outputs = model(inputs)\n",
        "\n",
        "                # backward + optimize only if in training phase\n",
        "                if phase == 'train':\n",
        "                    outputs = outputs.logits.squeeze()\n",
        "                    loss = criterion(outputs, labels.float())\n",
        "                    loss.backward()\n",
        "                    optimizer.step()\n",
        "                else:\n",
        "                    outputs = outputs.squeeze()\n",
        "                    loss = criterion(outputs, labels.float())\n",
        "\n",
        "                # statistics\n",
        "                preds = (torch.sigmoid(outputs) > 0.5).float()\n",
        "                running_loss += loss.data\n",
        "                running_corrects += torch.sum(preds == labels.data)\n",
        "\n",
        "            epoch_loss = running_loss / dataset_sizes[phase]\n",
        "            epoch_acc = running_corrects.float() / dataset_sizes[phase]\n",
        "\n",
        "            print('{} Loss: {:.4f} Acc: {:.4f}'.format(phase, epoch_loss, epoch_acc))\n",
        "\n",
        "            # deep copy the model\n",
        "            if phase == 'test' and epoch_acc > best_acc:\n",
        "                best_acc = epoch_acc\n",
        "                best_model_wts = model.state_dict()\n",
        "                state = {'model':model.state_dict(),'optim':optimizer.state_dict()}\n",
        "#                 torch.save(state,'./point_resnet_best.pth')\n",
        "\n",
        "        print()\n",
        "\n",
        "    time_elapsed = time.time() - since\n",
        "    print('Training complete in {:.0f}m {:.0f}s'.format(time_elapsed // 60, time_elapsed % 60))\n",
        "    print('Best test Acc: {:4f}'.format(best_acc))\n",
        "\n",
        "    # load best model weights\n",
        "    model.load_state_dict(best_model_wts)\n",
        "    return model"
      ],
      "metadata": {
        "execution": {
          "iopub.status.busy": "2024-06-19T16:42:36.167692Z",
          "iopub.execute_input": "2024-06-19T16:42:36.168096Z",
          "iopub.status.idle": "2024-06-19T16:42:36.184308Z",
          "shell.execute_reply.started": "2024-06-19T16:42:36.168063Z",
          "shell.execute_reply": "2024-06-19T16:42:36.183279Z"
        },
        "trusted": true,
        "id": "D_pbhrn0hPfk"
      },
      "execution_count": null,
      "outputs": []
    },
    {
      "cell_type": "code",
      "source": [
        "model_gnet = googlenet()\n",
        "num_ftrs = model_gnet.fc.in_features\n",
        "model_gnet.fc = nn.Linear(num_ftrs, 1)\n",
        "optimizer_gnet = optim.Adam(model_gnet.parameters(), lr=0.0001)\n",
        "\n",
        "if use_gpu:\n",
        "    model_gnet = model_gnet.cuda()"
      ],
      "metadata": {
        "execution": {
          "iopub.status.busy": "2024-06-19T16:42:37.359622Z",
          "iopub.execute_input": "2024-06-19T16:42:37.359991Z",
          "iopub.status.idle": "2024-06-19T16:42:37.738969Z",
          "shell.execute_reply.started": "2024-06-19T16:42:37.359960Z",
          "shell.execute_reply": "2024-06-19T16:42:37.737843Z"
        },
        "trusted": true,
        "colab": {
          "base_uri": "https://localhost:8080/"
        },
        "id": "nyxJpAzdhPfk",
        "outputId": "2d81813a-365f-4ef8-cca0-127d75765e87"
      },
      "execution_count": null,
      "outputs": [
        {
          "output_type": "stream",
          "name": "stderr",
          "text": [
            "/usr/local/lib/python3.10/dist-packages/torchvision/models/googlenet.py:47: FutureWarning: The default weight initialization of GoogleNet will be changed in future releases of torchvision. If you wish to keep the old behavior (which leads to long initialization times due to scipy/scipy#11299), please set init_weights=True.\n",
            "  warnings.warn(\n"
          ]
        }
      ]
    },
    {
      "cell_type": "code",
      "source": [
        "model_gnet = train_model_gnet(model_gnet, dataloders, dataset_sizes, criterion, optimizer_gnet, num_epochs=10)"
      ],
      "metadata": {
        "execution": {
          "iopub.status.busy": "2024-06-19T16:42:37.876833Z",
          "iopub.execute_input": "2024-06-19T16:42:37.877338Z",
          "iopub.status.idle": "2024-06-19T16:45:28.072347Z",
          "shell.execute_reply.started": "2024-06-19T16:42:37.877308Z",
          "shell.execute_reply": "2024-06-19T16:45:28.071081Z"
        },
        "trusted": true,
        "colab": {
          "base_uri": "https://localhost:8080/"
        },
        "id": "gxJ72GQnhPfl",
        "outputId": "906f2817-6a21-4c49-a8fc-1c40b03c9439"
      },
      "execution_count": null,
      "outputs": [
        {
          "output_type": "stream",
          "name": "stdout",
          "text": [
            "Epoch 0/9\n",
            "----------\n",
            "train Loss: 0.0186 Acc: 0.6823\n",
            "test Loss: 0.0136 Acc: 0.8000\n",
            "\n",
            "Epoch 1/9\n",
            "----------\n",
            "train Loss: 0.0123 Acc: 0.8217\n",
            "test Loss: 0.0089 Acc: 0.8755\n",
            "\n",
            "Epoch 2/9\n",
            "----------\n",
            "train Loss: 0.0090 Acc: 0.8773\n",
            "test Loss: 0.0087 Acc: 0.8860\n",
            "\n",
            "Epoch 3/9\n",
            "----------\n",
            "train Loss: 0.0082 Acc: 0.8877\n",
            "test Loss: 0.0092 Acc: 0.8795\n",
            "\n",
            "Epoch 4/9\n",
            "----------\n",
            "train Loss: 0.0076 Acc: 0.8947\n",
            "test Loss: 0.0106 Acc: 0.8480\n",
            "\n",
            "Epoch 5/9\n",
            "----------\n",
            "train Loss: 0.0065 Acc: 0.9083\n",
            "test Loss: 0.0138 Acc: 0.8495\n",
            "\n",
            "Epoch 6/9\n",
            "----------\n",
            "train Loss: 0.0062 Acc: 0.9150\n",
            "test Loss: 0.0091 Acc: 0.8940\n",
            "\n",
            "Epoch 7/9\n",
            "----------\n",
            "train Loss: 0.0057 Acc: 0.9260\n",
            "test Loss: 0.0046 Acc: 0.9385\n",
            "\n",
            "Epoch 8/9\n",
            "----------\n",
            "train Loss: 0.0056 Acc: 0.9300\n",
            "test Loss: 0.0092 Acc: 0.8885\n",
            "\n",
            "Epoch 9/9\n",
            "----------\n",
            "train Loss: 0.0054 Acc: 0.9273\n",
            "test Loss: 0.0047 Acc: 0.9410\n",
            "\n",
            "Training complete in 9m 8s\n",
            "Best test Acc: 0.941000\n"
          ]
        }
      ]
    },
    {
      "cell_type": "code",
      "source": [],
      "metadata": {
        "id": "o8JVqK3OEC0G"
      },
      "execution_count": null,
      "outputs": []
    }
  ]
}